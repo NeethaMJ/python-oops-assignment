{
 "cells": [
  {
   "cell_type": "markdown",
   "id": "96e54329",
   "metadata": {},
   "source": [
    "                                python oops assignment"
   ]
  },
  {
   "cell_type": "code",
   "execution_count": null,
   "id": "4161ed27",
   "metadata": {},
   "outputs": [],
   "source": [
    "Q1. Explain Class and Object with respect to Object-Oriented Programming. Give a suitable example.\n",
    "\n",
    "ANS: Class:\n",
    "A class is a blueprint or template for creating objects. It defines a set of attributes (variables) and methods (functions) that the objects created from the class will have. A class doesn’t occupy any memory space on its own; it’s just a definition.\n",
    "\n",
    "Object:\n",
    "An object is an instance of a class. When a class is defined, no memory is allocated until an object of that class is created. An object is a specific implementation of a class that has its own set of attribute values."
   ]
  },
  {
   "cell_type": "code",
   "execution_count": 6,
   "id": "2cfb1fad",
   "metadata": {},
   "outputs": [
    {
     "name": "stdout",
     "output_type": "stream",
     "text": [
      "The Toyota Corolla engine has started.\n",
      "The Honda Civic engine has started.\n",
      "The Toyota Corolla engine has stopped.\n"
     ]
    }
   ],
   "source": [
    "class Car:\n",
    "    def __init__(self, make, model, year):\n",
    "        self.make = make\n",
    "        self.model = model\n",
    "        self.year = year\n",
    "    \n",
    "    def start_engine(self):\n",
    "        print(f\"The {self.make} {self.model} engine has started.\")\n",
    "    \n",
    "    def stop_engine(self):\n",
    "        print(f\"The {self.make} {self.model} engine has stopped.\")\n",
    "        \n",
    "car1 = Car(\"Toyota\", \"Corolla\", 2022)\n",
    "car2 = Car(\"Honda\", \"Civic\", 2023)\n",
    "\n",
    "car1.start_engine()  # Output: The Toyota Corolla engine has started.  \n",
    "car2.start_engine()  # Output: The Honda Civic engine has started.\n",
    "car1.stop_engine()   # Output: The Toyota Corolla engine has stopped.\n",
    "\n"
   ]
  },
  {
   "cell_type": "code",
   "execution_count": null,
   "id": "ec30dda5",
   "metadata": {},
   "outputs": [],
   "source": [
    "Q2. Name the four pillars of OOPs.\n",
    "\n",
    "ANS : The four pillars of Object-Oriented Programming (OOP) are:\n",
    "\n",
    "Encapsulation:\n",
    "\n",
    "Definition: Encapsulation is the concept of wrapping data (attributes) and methods (functions) that operate on the data into a single unit, known as a class. It restricts direct access to some of an object’s components, which is a means of preventing accidental interference and misuse of the data.\n",
    "Example: In a class, you can use access modifiers like private, protected, or public to control access to the data.\n",
    "\n",
    "    Abstraction:\n",
    "\n",
    "Definition: Abstraction is the process of hiding the complex implementation details and showing only the essential features of an object. It simplifies interaction with objects by providing a clear and simple interface.\n",
    "Example: When you use a Car class, you interact with methods like start_engine() or stop_engine() without needing to know the intricate details of how these methods are implemented.\n",
    "\n",
    "    Inheritance:\n",
    "\n",
    "Definition: Inheritance is the mechanism by which one class (child or derived class) can inherit properties and methods from another class (parent or base class). It promotes code reusability and establishes a relationship between classes.\n",
    "Example: If you have a Vehicle class with common properties like make and model, you can create a Car class that inherits from Vehicle and adds specific properties like number_of_doors.\n",
    "\n",
    "    Polymorphism:\n",
    "\n",
    "Definition: Polymorphism allows objects of different classes to be treated as objects of a common superclass. It also allows a method to do different things based on the object it is acting upon, even if the method shares the same name.\n",
    "Example: A method named drive() might behave differently when called on an object of class Car compared to when it is called on an object of class Bike.\n"
   ]
  },
  {
   "cell_type": "code",
   "execution_count": null,
   "id": "b277a137",
   "metadata": {},
   "outputs": [],
   "source": [
    "Q3. Explain why the __init__() function is used. Give a suitable example.\n",
    "\n",
    "ANS : The __init__() function is a special method in Python that is automatically called when an object is created from a class. It is used for initializing the object's attributes and setting up the initial state of the object.\n",
    "\n",
    "Purpose of __init__():\n",
    "Initialize Attributes: It allows you to define and initialize the attributes of the object at the time of creation.\n",
    "Set Initial State: It sets up any required initial state or configuration for the object.\n",
    "Optional Parameters: You can pass parameters to __init__() to customize the creation of each object."
   ]
  },
  {
   "cell_type": "code",
   "execution_count": 7,
   "id": "fe41a479",
   "metadata": {},
   "outputs": [
    {
     "name": "stdout",
     "output_type": "stream",
     "text": [
      "Hello, my name is Alice and I am 30 years old.\n"
     ]
    }
   ],
   "source": [
    "class Person:\n",
    "    def __init__(self, name, age):\n",
    "        self.name = name  # Initialize the 'name' attribute\n",
    "        self.age = age    # Initialize the 'age' attribute\n",
    "\n",
    "    def greet(self):\n",
    "        print(f\"Hello, my name is {self.name} and I am {self.age} years old.\")\n",
    "\n",
    "# Creating an object of the Person class\n",
    "person1 = Person(\"Alice\", 30)\n",
    "\n",
    "# Using the object\n",
    "person1.greet()  # Output: Hello, my name is Alice and I am 30 years old.\n"
   ]
  },
  {
   "cell_type": "code",
   "execution_count": null,
   "id": "190390fd",
   "metadata": {},
   "outputs": [],
   "source": [
    "Q4. Why self is used in OOPs?\n",
    "\n",
    "ANS : In Object-Oriented Programming (OOP) in Python, self is used as the first parameter in methods within a class to refer to the instance of the class that is calling the method. It is a reference to the current object, and it allows access to the instance’s attributes and other methods.\n",
    "\n",
    "Key Reasons for Using self:\n",
    "    \n",
    "Accessing Instance Variables:\n",
    "self allows you to access the instance variables (attributes) and methods of the class from within the class. Without self, Python would not know whether you are referring to a local variable or an instance variable.\n",
    "\n",
    "Distinguishing Between Class and Instance Variables:\n",
    "Using self helps differentiate between class variables (shared among all instances) and instance variables (unique to each instance).\n",
    "\n",
    "Calling Other Methods in the Same Class:\n",
    "self is required to call other methods within the same class, ensuring that the method call is bound to the correct instance.\n",
    "\n",
    "Ensuring Consistency Across Instances:\n",
    "self ensures that each instance of the class maintains its own set of attributes and methods, making each object unique.\n",
    "\n",
    "self is essential in Python's OOP to ensure that methods and attributes are properly associated with the specific instance of the class. It provides a way to work with an object's own data and behavior within the class's methods."
   ]
  },
  {
   "cell_type": "code",
   "execution_count": 9,
   "id": "87c0ace1",
   "metadata": {},
   "outputs": [],
   "source": [
    "class Dog:\n",
    "    def __init__(self, name, breed):\n",
    "        self.name = name  # 'self.name' refers to the instance variable\n",
    "        self.breed = breed  # 'self.breed' refers to the instance variable\n",
    "\n",
    "    def bark(self):\n",
    "        print(f\"{self.name} says Woof!\")  # 'self.name' accesses the instance's name\n",
    "\n",
    "        \n",
    "class Dog:\n",
    "    species = \"Canine\"  # Class variable\n",
    "\n",
    "    def __init__(self, name, breed):\n",
    "        self.name = name  # Instance variable\n",
    "        self.breed = breed  # Instance variable\n",
    "        \n",
    "        \n",
    "class Dog:\n",
    "    def __init__(self, name, breed):\n",
    "        self.name = name\n",
    "        self.breed = breed\n",
    "\n",
    "    def bark(self):\n",
    "        print(f\"{self.name} says Woof!\")\n",
    "\n",
    "    def introduce(self):\n",
    "        self.bark()  # Call the 'bark' method using 'self'\n",
    "       \n",
    "       "
   ]
  },
  {
   "cell_type": "code",
   "execution_count": null,
   "id": "2d644b83",
   "metadata": {},
   "outputs": [],
   "source": [
    "Q5. What is inheritance? Give an example for each type of inheritance.\n",
    "\n",
    "ANS : Inheritance is a fundamental concept in Object-Oriented Programming (OOP) that allows a class to inherit properties and behaviors (attributes and methods) from another class. The class that inherits is called the child class (or derived class), and the class from which it inherits is called the parent class (or base class). Inheritance promotes code reusability and establishes a natural hierarchy between classes.\n",
    "\n",
    "Types of Inheritance and Examples\n",
    "Single Inheritance:\n",
    "\n",
    "Definition: A child class inherits from a single parent class."
   ]
  },
  {
   "cell_type": "code",
   "execution_count": 10,
   "id": "a449920c",
   "metadata": {},
   "outputs": [
    {
     "name": "stdout",
     "output_type": "stream",
     "text": [
      "Woof!\n"
     ]
    }
   ],
   "source": [
    "class Animal:\n",
    "    def __init__(self, name):\n",
    "        self.name = name\n",
    "\n",
    "    def speak(self):\n",
    "        return \"Animal sound\"\n",
    "\n",
    "class Dog(Animal):  # Dog class inherits from Animal\n",
    "    def speak(self):\n",
    "        return \"Woof!\"\n",
    "\n",
    "dog = Dog(\"Buddy\")\n",
    "print(dog.speak())  \n"
   ]
  },
  {
   "cell_type": "code",
   "execution_count": null,
   "id": "9d897dd9",
   "metadata": {},
   "outputs": [],
   "source": [
    "Multiple Inheritance:\n",
    "\n",
    "Definition: A child class inherits from more than one parent class.\n"
   ]
  },
  {
   "cell_type": "code",
   "execution_count": 11,
   "id": "8d3b8098",
   "metadata": {},
   "outputs": [
    {
     "name": "stdout",
     "output_type": "stream",
     "text": [
      "Buddy\n",
      "True\n",
      "Woof!\n"
     ]
    }
   ],
   "source": [
    "class Animal:\n",
    "    def __init__(self, name):\n",
    "        self.name = name\n",
    "\n",
    "class Mammal:\n",
    "    def has_fur(self):\n",
    "        return True\n",
    "\n",
    "class Dog(Animal, Mammal):  # Dog class inherits from both Animal and Mammal\n",
    "    def speak(self):\n",
    "        return \"Woof!\"\n",
    "\n",
    "dog = Dog(\"Buddy\")\n",
    "print(dog.name)     \n",
    "print(dog.has_fur())  \n",
    "print(dog.speak()) \n"
   ]
  },
  {
   "cell_type": "code",
   "execution_count": null,
   "id": "79d78664",
   "metadata": {},
   "outputs": [],
   "source": [
    "Multilevel Inheritance:\n",
    "\n",
    "Definition: A child class inherits from a parent class, and another class inherits from this child class, creating a chain of inheritance."
   ]
  },
  {
   "cell_type": "code",
   "execution_count": 12,
   "id": "23323609",
   "metadata": {},
   "outputs": [
    {
     "name": "stdout",
     "output_type": "stream",
     "text": [
      "Woof!\n",
      "Playing!\n"
     ]
    }
   ],
   "source": [
    "class Animal:\n",
    "    def __init__(self, name):\n",
    "        self.name = name\n",
    "\n",
    "class Dog(Animal):  # Dog class inherits from Animal\n",
    "    def speak(self):\n",
    "        return \"Woof!\"\n",
    "\n",
    "class Puppy(Dog):  # Puppy class inherits from Dog\n",
    "    def play(self):\n",
    "        return \"Playing!\"\n",
    "\n",
    "puppy = Puppy(\"Charlie\")\n",
    "print(puppy.speak())  \n",
    "print(puppy.play())\n"
   ]
  },
  {
   "cell_type": "code",
   "execution_count": null,
   "id": "12c41b75",
   "metadata": {},
   "outputs": [],
   "source": [
    "Hierarchical Inheritance:\n",
    "\n",
    "Definition: Multiple child classes inherit from the same parent class."
   ]
  },
  {
   "cell_type": "code",
   "execution_count": 13,
   "id": "6d9a330d",
   "metadata": {},
   "outputs": [
    {
     "name": "stdout",
     "output_type": "stream",
     "text": [
      "Woof!\n",
      "Meow!\n"
     ]
    }
   ],
   "source": [
    "class Animal:\n",
    "    def __init__(self, name):\n",
    "        self.name = name\n",
    "\n",
    "class Dog(Animal):  # Dog class inherits from Animal\n",
    "    def speak(self):\n",
    "        return \"Woof!\"\n",
    "\n",
    "class Cat(Animal):  # Cat class also inherits from Animal\n",
    "    def speak(self):\n",
    "        return \"Meow!\"\n",
    "\n",
    "dog = Dog(\"Buddy\")\n",
    "cat = Cat(\"Whiskers\")\n",
    "print(dog.speak()) \n",
    "print(cat.speak()) \n"
   ]
  },
  {
   "cell_type": "code",
   "execution_count": null,
   "id": "7240f661",
   "metadata": {},
   "outputs": [],
   "source": [
    "Hybrid Inheritance:\n",
    "\n",
    "Definition: A combination of two or more types of inheritance. It often involves a mix of single, multiple, and multilevel inheritance."
   ]
  },
  {
   "cell_type": "code",
   "execution_count": 14,
   "id": "e01240a9",
   "metadata": {},
   "outputs": [
    {
     "name": "stdout",
     "output_type": "stream",
     "text": [
      "Bruce\n",
      "True\n",
      "True\n"
     ]
    }
   ],
   "source": [
    "class Animal:\n",
    "    def __init__(self, name):\n",
    "        self.name = name\n",
    "\n",
    "class Mammal(Animal):  # Single inheritance\n",
    "    def has_fur(self):\n",
    "        return True\n",
    "\n",
    "class Bird(Animal):  # Another branch in the hierarchy\n",
    "    def can_fly(self):\n",
    "        return True\n",
    "\n",
    "class Bat(Mammal, Bird):  # Multiple inheritance, combining Mammal and Bird\n",
    "    def can_fly(self):\n",
    "        return True\n",
    "\n",
    "bat = Bat(\"Bruce\")\n",
    "print(bat.name)      \n",
    "print(bat.has_fur()) \n",
    "print(bat.can_fly())\n"
   ]
  },
  {
   "cell_type": "code",
   "execution_count": null,
   "id": "fa2d2c3d",
   "metadata": {},
   "outputs": [],
   "source": [
    "Inheritance allows for the creation of a new class based on an existing class, fostering code reuse and creating relationships between classes. Each type of inheritance serves different purposes depending on the design of your class hierarchy."
   ]
  }
 ],
 "metadata": {
  "kernelspec": {
   "display_name": "Python 3 (ipykernel)",
   "language": "python",
   "name": "python3"
  },
  "language_info": {
   "codemirror_mode": {
    "name": "ipython",
    "version": 3
   },
   "file_extension": ".py",
   "mimetype": "text/x-python",
   "name": "python",
   "nbconvert_exporter": "python",
   "pygments_lexer": "ipython3",
   "version": "3.11.4"
  }
 },
 "nbformat": 4,
 "nbformat_minor": 5
}
